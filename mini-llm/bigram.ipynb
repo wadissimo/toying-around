{
 "cells": [
  {
   "cell_type": "code",
   "execution_count": null,
   "id": "b11092b5-ff20-4df9-afb0-d30b33af2c0a",
   "metadata": {},
   "outputs": [],
   "source": []
  },
  {
   "cell_type": "code",
   "execution_count": 2,
   "id": "2de21694-e53c-4677-ab46-c78f52755da9",
   "metadata": {},
   "outputs": [],
   "source": [
    "data_file = \"data/input.txt\"\n",
    "with open(data_file) as f:\n",
    "    text = f.read()"
   ]
  },
  {
   "cell_type": "code",
   "execution_count": 3,
   "id": "1b58f8e7-de56-4148-874f-ac0fba27f109",
   "metadata": {},
   "outputs": [
    {
     "name": "stdout",
     "output_type": "stream",
     "text": [
      "{'q', 'F', 'J', 'G', 't', 'P', 'L', 'r', '.', '&', '3', 'p', 'h', 'R', 'S', 's', 'U', 'u', 'n', '\\n', 'a', 'k', 'E', 'V', '!', '?', 'v', 'N', 'd', 'T', 'C', 'O', 'x', ' ', 'f', 'b', 'o', 'Y', 'g', 'i', 'j', 'B', 'M', 'H', 'w', ',', 'e', 'z', 'I', 'Z', ':', 'A', 'l', \"'\", '-', 'c', 'm', 'y', 'D', 'Q', 'W', 'X', '$', ';', 'K'}\n"
     ]
    }
   ],
   "source": [
    "vocab = set()\n",
    "for c in text:\n",
    "    vocab.add(c)\n",
    "print(vocab)\n",
    "vocab_size = len(vocab)"
   ]
  },
  {
   "cell_type": "code",
   "execution_count": 4,
   "id": "0a2c862e-6406-4d28-9c74-b7c4e8f5f885",
   "metadata": {},
   "outputs": [],
   "source": [
    "stoi = {c:i for i, c in enumerate(vocab)}\n",
    "itos = {i:c for i, c in enumerate(vocab)}\n",
    "def encode(s): return [stoi[c] for c in s]\n",
    "def decode(a): return ''.join([itos[i] for i in a])\n",
    "    "
   ]
  },
  {
   "cell_type": "code",
   "execution_count": 5,
   "id": "0796a829-6bcd-48f3-bf71-1bd383b7985f",
   "metadata": {},
   "outputs": [],
   "source": [
    "import torch\n",
    "device = 'cuda' if torch.cuda.is_available() else 'cpu'"
   ]
  },
  {
   "cell_type": "code",
   "execution_count": 6,
   "id": "225fc888-3f8b-4256-b6f8-efdd6155a039",
   "metadata": {},
   "outputs": [],
   "source": [
    "data = torch.tensor(encode(text), dtype=torch.long)"
   ]
  },
  {
   "cell_type": "code",
   "execution_count": 7,
   "id": "3ca0cfed-3eae-49ca-83d3-2f94ac073248",
   "metadata": {},
   "outputs": [
    {
     "data": {
      "text/plain": [
       "torch.Size([1115393])"
      ]
     },
     "execution_count": 7,
     "metadata": {},
     "output_type": "execute_result"
    }
   ],
   "source": [
    "data.shape"
   ]
  },
  {
   "cell_type": "code",
   "execution_count": 8,
   "id": "ee774d45-fde6-4cdf-8703-93b53bf01546",
   "metadata": {},
   "outputs": [],
   "source": [
    "split = int(0.9*len(data))\n",
    "train_data = data[:split]\n",
    "val_data = data[split:]"
   ]
  },
  {
   "cell_type": "code",
   "execution_count": 9,
   "id": "35ec9012-063c-41f6-ac6c-ae0b232c755a",
   "metadata": {},
   "outputs": [
    {
     "data": {
      "text/plain": [
       "tensor([ 1, 39,  7, 15,  4, 33, 30, 39])"
      ]
     },
     "execution_count": 9,
     "metadata": {},
     "output_type": "execute_result"
    }
   ],
   "source": [
    "block_size=8\n",
    "train_data[:block_size]"
   ]
  },
  {
   "cell_type": "code",
   "execution_count": 10,
   "id": "c6bffbfa-5b8f-4a64-97f1-5e68fcd6b17f",
   "metadata": {},
   "outputs": [],
   "source": [
    "import torch.nn as nn\n",
    "from torch.nn import functional as F"
   ]
  },
  {
   "cell_type": "code",
   "execution_count": 11,
   "id": "79f4be6a-3733-46fb-a0c3-91f1dda310f8",
   "metadata": {},
   "outputs": [],
   "source": [
    "class BigramLanguageModel(nn.Module):\n",
    "    def __init__(self, vocab_size):\n",
    "        super().__init__()\n",
    "        self.token_embedding_table = nn.Embedding(vocab_size, vocab_size)\n",
    "\n",
    "    def forward(self, idx, targets=None):\n",
    "        logits = self.token_embedding_table(idx)\n",
    "        if targets is None:\n",
    "            loss = None\n",
    "        else:\n",
    "            B,T,C = logits.shape\n",
    "            logits = logits.view(B*T, C)\n",
    "            targets = targets.view(B*T)\n",
    "            loss =  F.cross_entropy(logits, targets)\n",
    "        return logits, loss\n",
    "\n",
    "    def generate(self, idx, max_new_tokens):\n",
    "        for _ in range(max_new_tokens):\n",
    "            logits, loss = self(idx)\n",
    "            logits = logits[:,-1,:]\n",
    "            probs = F.softmax(logits, dim=-1)\n",
    "            idx_next = torch.multinomial(probs, num_samples=1)\n",
    "            idx = torch.cat((idx,idx_next), dim=1)\n",
    "        return idx\n",
    "            \n",
    "        "
   ]
  },
  {
   "cell_type": "code",
   "execution_count": 12,
   "id": "ab665556-d0ac-4481-a614-5f2604b8eba7",
   "metadata": {},
   "outputs": [
    {
     "name": "stdout",
     "output_type": "stream",
     "text": [
      "inputs:\n",
      "torch.Size([4, 8])\n",
      "tensor([[57, 15, 33,  4, 12, 46, 33, 36],\n",
      "        [57, 36, 17, 33, 44, 46, 28, 28],\n",
      "        [ 7, 39, 38, 12,  4, 34, 17, 52],\n",
      "        [53, 33,  4, 12, 46, 33,  4, 39]])\n",
      "targets:\n",
      "torch.Size([4, 8])\n",
      "tensor([[15, 33,  4, 12, 46, 33, 36,  4],\n",
      "        [36, 17, 33, 44, 46, 28, 28, 46],\n",
      "        [39, 38, 12,  4, 34, 17, 52, 33],\n",
      "        [33,  4, 12, 46, 33,  4, 39, 56]])\n"
     ]
    }
   ],
   "source": [
    "batch_size = 4 # how many independent sequences will we process in parallel?\n",
    "block_size = 8 # what is the maximum context length for predictions?\n",
    "\n",
    "def get_batch(split):\n",
    "    # generate a small batch of data of inputs x and targets y\n",
    "    data = train_data if split == 'train' else val_data\n",
    "    ix = torch.randint(len(data) - block_size, (batch_size,))\n",
    "    x = torch.stack([data[i:i+block_size] for i in ix])\n",
    "    y = torch.stack([data[i+1:i+block_size+1] for i in ix])\n",
    "    return x, y\n",
    "\n",
    "xb, yb = get_batch('train')\n",
    "print('inputs:')\n",
    "print(xb.shape)\n",
    "print(xb)\n",
    "print('targets:')\n",
    "print(yb.shape)\n",
    "print(yb)"
   ]
  },
  {
   "cell_type": "code",
   "execution_count": 24,
   "id": "7bb2f1f0-f023-4a4b-a03c-8341c58cda1d",
   "metadata": {},
   "outputs": [
    {
     "data": {
      "text/plain": [
       "tensor([ 760459,  945470,  729817,  302382,  985241,  925071,  258957,  573221,\n",
       "         765570,  806973,   60416,  630653,  413812,   33929, 1016456,  150824,\n",
       "         439286,  787981,  302507,  460308,  404970,  281896,  270697,  772112,\n",
       "         490580,  626503,  158969,  890095, 1000695, 1043176,  392158,  329570])"
      ]
     },
     "execution_count": 24,
     "metadata": {},
     "output_type": "execute_result"
    }
   ],
   "source": [
    "torch.randint(len(data) - block_size, (batch_size,))"
   ]
  },
  {
   "cell_type": "code",
   "execution_count": 15,
   "id": "693eb7cd-a185-42be-95c1-8796de5c246a",
   "metadata": {},
   "outputs": [],
   "source": [
    "m = BigramLanguageModel(vocab_size)\n",
    "m = m.to(device)\n",
    "data = data.to(device)\n",
    "train_data = train_data.to(device)\n",
    "val_data = val_data.to(device)"
   ]
  },
  {
   "cell_type": "code",
   "execution_count": 17,
   "id": "726d6d39-e1d3-4f3d-8a51-613377eb69eb",
   "metadata": {},
   "outputs": [
    {
     "data": {
      "text/plain": [
       "\"qyr-vkdhRl\\nNSCmKrS.XB!AGd:hy'EEjtYvzVQSoB't-KyugWGVG.Y,Z!'TwvxXCK:SYQlYKACfqG!Zw-sl;dUKgihYalp:nU$CJV\""
      ]
     },
     "execution_count": 17,
     "metadata": {},
     "output_type": "execute_result"
    }
   ],
   "source": [
    "decode(m.generate(torch.zeros((1,1),dtype=torch.long).to(device), max_new_tokens=100)[0].tolist())"
   ]
  },
  {
   "cell_type": "code",
   "execution_count": 18,
   "id": "7939c154-5c64-48e2-9842-74df069b5a43",
   "metadata": {},
   "outputs": [],
   "source": [
    "optimizer = torch.optim.AdamW(m.parameters(), lr=1e-3)"
   ]
  },
  {
   "cell_type": "code",
   "execution_count": 20,
   "id": "15d16519-57cb-4e2c-ae55-5b9566b721b3",
   "metadata": {},
   "outputs": [
    {
     "name": "stdout",
     "output_type": "stream",
     "text": [
      "2.462007761001587\n"
     ]
    }
   ],
   "source": [
    "batch_size=32\n",
    "for steps in range(10000):\n",
    "    xb, yb = get_batch('train')\n",
    "    logits, loss = m(xb,yb)\n",
    "    optimizer.zero_grad(set_to_none=True)\n",
    "    loss.backward()\n",
    "    optimizer.step()\n",
    "print(loss.item())"
   ]
  },
  {
   "cell_type": "code",
   "execution_count": 21,
   "id": "b6d65bee-6511-464f-a67d-a8fd2f48633e",
   "metadata": {},
   "outputs": [
    {
     "data": {
      "text/plain": [
       "'qude pe.\\nBERO:\\n\\nWr.\\nGomefouchas frd a-shendour w,\\nSThero temyou nild.\\nINERCIZAld deasou y be gewack, '"
      ]
     },
     "execution_count": 21,
     "metadata": {},
     "output_type": "execute_result"
    }
   ],
   "source": [
    "decode(m.generate(torch.zeros((1,1),dtype=torch.long).to(device), max_new_tokens=100)[0].tolist())"
   ]
  },
  {
   "cell_type": "code",
   "execution_count": null,
   "id": "482f9345-a893-417d-9464-8f1cf8b66283",
   "metadata": {},
   "outputs": [],
   "source": []
  }
 ],
 "metadata": {
  "kernelspec": {
   "display_name": "Python 3 (ipykernel)",
   "language": "python",
   "name": "python3"
  },
  "language_info": {
   "codemirror_mode": {
    "name": "ipython",
    "version": 3
   },
   "file_extension": ".py",
   "mimetype": "text/x-python",
   "name": "python",
   "nbconvert_exporter": "python",
   "pygments_lexer": "ipython3",
   "version": "3.12.2"
  }
 },
 "nbformat": 4,
 "nbformat_minor": 5
}
